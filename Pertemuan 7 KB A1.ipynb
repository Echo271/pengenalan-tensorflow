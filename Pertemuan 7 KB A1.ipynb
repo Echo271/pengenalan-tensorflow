{
 "cells": [
  {
   "cell_type": "markdown",
   "id": "99029ddb",
   "metadata": {},
   "source": [
    "# Mengimport Library"
   ]
  },
  {
   "cell_type": "code",
   "execution_count": 1,
   "id": "000c9ceb",
   "metadata": {},
   "outputs": [],
   "source": [
    "import tensorflow as tf"
   ]
  },
  {
   "cell_type": "code",
   "execution_count": 6,
   "id": "28c3e9ee",
   "metadata": {},
   "outputs": [
    {
     "data": {
      "text/plain": [
       "<tf.Tensor: shape=(2, 2), dtype=float32, numpy=\n",
       "array([[1., 2.],\n",
       "       [3., 4.]], dtype=float32)>"
      ]
     },
     "execution_count": 6,
     "metadata": {},
     "output_type": "execute_result"
    }
   ],
   "source": [
    "const_a = tf.constant([1,2,3,4],shape=(2,2),dtype=tf.float32)\n",
    "const_a"
   ]
  },
  {
   "cell_type": "code",
   "execution_count": 11,
   "id": "6f34a372",
   "metadata": {},
   "outputs": [
    {
     "data": {
      "text/plain": [
       "<tf.Tensor: shape=(2, 2), dtype=float32, numpy=\n",
       "array([[0., 0.],\n",
       "       [0., 0.]], dtype=float32)>"
      ]
     },
     "execution_count": 11,
     "metadata": {},
     "output_type": "execute_result"
    }
   ],
   "source": [
    "zeros_a = tf.zeros(shape=(2,2))\n",
    "zeros_a"
   ]
  },
  {
   "cell_type": "code",
   "execution_count": 15,
   "id": "71902e36",
   "metadata": {},
   "outputs": [
    {
     "data": {
      "text/plain": [
       "<tf.Tensor: shape=(2, 3), dtype=float32, numpy=\n",
       "array([[8.3, 8.3, 8.3],\n",
       "       [8.3, 8.3, 8.3]], dtype=float32)>"
      ]
     },
     "execution_count": 15,
     "metadata": {},
     "output_type": "execute_result"
    }
   ],
   "source": [
    "fill_a = tf.fill([2,3],8.3)\n",
    "fill_a"
   ]
  },
  {
   "cell_type": "code",
   "execution_count": 19,
   "id": "5f653629",
   "metadata": {},
   "outputs": [
    {
     "data": {
      "text/plain": [
       "<tf.Tensor: shape=(2, 2), dtype=float32, numpy=\n",
       "array([[98.57104 , 98.61683 ],\n",
       "       [97.200745, 98.93262 ]], dtype=float32)>"
      ]
     },
     "execution_count": 19,
     "metadata": {},
     "output_type": "execute_result"
    }
   ],
   "source": [
    "random_a = tf.random.normal([2,2], mean=99)\n",
    "random_a"
   ]
  },
  {
   "cell_type": "code",
   "execution_count": 21,
   "id": "6cdd758b",
   "metadata": {},
   "outputs": [
    {
     "data": {
      "text/plain": [
       "<tf.Tensor: shape=(6,), dtype=float32, numpy=array([1., 2., 3., 4., 5., 6.], dtype=float32)>"
      ]
     },
     "execution_count": 21,
     "metadata": {},
     "output_type": "execute_result"
    }
   ],
   "source": [
    "list_a = [1,2,3,4,5,6]\n",
    "\n",
    "convert_a = tf.convert_to_tensor(list_a, dtype=tf.float32)\n",
    "\n",
    "convert_a"
   ]
  },
  {
   "cell_type": "markdown",
   "id": "ebcc5ccb",
   "metadata": {},
   "source": [
    "## tensorflow variabel"
   ]
  },
  {
   "cell_type": "code",
   "execution_count": 22,
   "id": "ef543ea9",
   "metadata": {},
   "outputs": [
    {
     "data": {
      "text/plain": [
       "<tf.Variable 'Variable:0' shape=(2, 3) dtype=float32, numpy=\n",
       "array([[1., 1., 1.],\n",
       "       [1., 1., 1.]], dtype=float32)>"
      ]
     },
     "execution_count": 22,
     "metadata": {},
     "output_type": "execute_result"
    }
   ],
   "source": [
    "var_t = tf.Variable(tf.ones([2,3]))\n",
    "var_t"
   ]
  },
  {
   "cell_type": "code",
   "execution_count": 23,
   "id": "2b1bf1a6",
   "metadata": {},
   "outputs": [
    {
     "data": {
      "text/plain": [
       "<tf.Variable 'UnreadVariable' shape=(2, 3) dtype=float32, numpy=\n",
       "array([[2., 2., 2.],\n",
       "       [3., 3., 3.]], dtype=float32)>"
      ]
     },
     "execution_count": 23,
     "metadata": {},
     "output_type": "execute_result"
    }
   ],
   "source": [
    "var_1 = [[2,2,2],[3,3,3]]\n",
    "\n",
    "asign = var_t.assign(var_1)\n",
    "\n",
    "asign"
   ]
  },
  {
   "cell_type": "code",
   "execution_count": 24,
   "id": "f062b963",
   "metadata": {},
   "outputs": [
    {
     "data": {
      "text/plain": [
       "<tf.Tensor: shape=(2, 2, 2, 3), dtype=float32, numpy=\n",
       "array([[[[-0.58922935, -1.015623  ,  1.2653404 ],\n",
       "         [ 0.758872  ,  0.5948655 ,  1.5391155 ]],\n",
       "\n",
       "        [[ 0.9092827 , -0.18648525,  1.0187871 ],\n",
       "         [ 0.46944544, -1.072531  , -1.2689781 ]]],\n",
       "\n",
       "\n",
       "       [[[ 0.7533275 , -1.17626   ,  0.9512884 ],\n",
       "         [ 0.05153544, -0.9569087 ,  1.3827094 ]],\n",
       "\n",
       "        [[-0.55270946,  1.0652399 ,  0.8575989 ],\n",
       "         [-0.17136715,  1.6075445 ,  1.3356692 ]]]], dtype=float32)>"
      ]
     },
     "execution_count": 24,
     "metadata": {},
     "output_type": "execute_result"
    }
   ],
   "source": [
    "tensor_i = tf.random.normal([2,2,2,3])\n",
    "tensor_i"
   ]
  },
  {
   "cell_type": "code",
   "execution_count": 27,
   "id": "353fe0e8",
   "metadata": {},
   "outputs": [
    {
     "data": {
      "text/plain": [
       "<tf.Tensor: shape=(2, 2, 3), dtype=float32, numpy=\n",
       "array([[[-0.58922935, -1.015623  ,  1.2653404 ],\n",
       "        [ 0.758872  ,  0.5948655 ,  1.5391155 ]],\n",
       "\n",
       "       [[ 0.9092827 , -0.18648525,  1.0187871 ],\n",
       "        [ 0.46944544, -1.072531  , -1.2689781 ]]], dtype=float32)>"
      ]
     },
     "execution_count": 27,
     "metadata": {},
     "output_type": "execute_result"
    }
   ],
   "source": [
    "tensor_i[0,...]"
   ]
  },
  {
   "cell_type": "code",
   "execution_count": 33,
   "id": "63608a0c",
   "metadata": {},
   "outputs": [
    {
     "data": {
      "text/plain": [
       "<tf.Tensor: shape=(2, 2, 2, 3), dtype=float32, numpy=\n",
       "array([[[[ 0.7533275 , -1.17626   ,  0.9512884 ],\n",
       "         [ 0.05153544, -0.9569087 ,  1.3827094 ]],\n",
       "\n",
       "        [[-0.55270946,  1.0652399 ,  0.8575989 ],\n",
       "         [-0.17136715,  1.6075445 ,  1.3356692 ]]],\n",
       "\n",
       "\n",
       "       [[[-0.58922935, -1.015623  ,  1.2653404 ],\n",
       "         [ 0.758872  ,  0.5948655 ,  1.5391155 ]],\n",
       "\n",
       "        [[ 0.9092827 , -0.18648525,  1.0187871 ],\n",
       "         [ 0.46944544, -1.072531  , -1.2689781 ]]]], dtype=float32)>"
      ]
     },
     "execution_count": 33,
     "metadata": {},
     "output_type": "execute_result"
    }
   ],
   "source": [
    "tensor_i[::-1,...]"
   ]
  },
  {
   "cell_type": "code",
   "execution_count": 37,
   "id": "caa97063",
   "metadata": {},
   "outputs": [
    {
     "data": {
      "text/plain": [
       "<tf.Tensor: shape=(1, 2, 2, 3), dtype=float32, numpy=\n",
       "array([[[[-0.58922935, -1.015623  ,  1.2653404 ],\n",
       "         [ 0.758872  ,  0.5948655 ,  1.5391155 ]],\n",
       "\n",
       "        [[ 0.9092827 , -0.18648525,  1.0187871 ],\n",
       "         [ 0.46944544, -1.072531  , -1.2689781 ]]]], dtype=float32)>"
      ]
     },
     "execution_count": 37,
     "metadata": {},
     "output_type": "execute_result"
    }
   ],
   "source": [
    "image_x = [0]\n",
    "tf.gather(tensor_i,indices=image_x)"
   ]
  },
  {
   "cell_type": "code",
   "execution_count": 38,
   "id": "f0d88b4a",
   "metadata": {},
   "outputs": [
    {
     "data": {
      "text/plain": [
       "<tf.Tensor: shape=(2,), dtype=float32, numpy=array([-1.2689781,  1.3356692], dtype=float32)>"
      ]
     },
     "execution_count": 38,
     "metadata": {},
     "output_type": "execute_result"
    }
   ],
   "source": [
    "image_x = [[0,1,1,2],[1,1,1,2]]\n",
    "tf.gather_nd(tensor_i, indices=image_x)"
   ]
  },
  {
   "cell_type": "code",
   "execution_count": 46,
   "id": "d1a3db36",
   "metadata": {},
   "outputs": [
    {
     "data": {
      "text/plain": [
       "<tf.Tensor: shape=(2, 3), dtype=int32, numpy=\n",
       "array([[1, 2, 3],\n",
       "       [4, 5, 6]])>"
      ]
     },
     "execution_count": 46,
     "metadata": {},
     "output_type": "execute_result"
    }
   ],
   "source": [
    "const_d1 = tf.constant([1,2,3,4,5,6],shape=[2,3])\n",
    "const_d1"
   ]
  },
  {
   "cell_type": "code",
   "execution_count": 47,
   "id": "8459b97c",
   "metadata": {},
   "outputs": [
    {
     "data": {
      "text/plain": [
       "TensorShape([2, 3])"
      ]
     },
     "execution_count": 47,
     "metadata": {},
     "output_type": "execute_result"
    }
   ],
   "source": [
    "const_d1.shape"
   ]
  },
  {
   "cell_type": "code",
   "execution_count": 48,
   "id": "a536dc40",
   "metadata": {},
   "outputs": [
    {
     "data": {
      "text/plain": [
       "TensorShape([2, 3])"
      ]
     },
     "execution_count": 48,
     "metadata": {},
     "output_type": "execute_result"
    }
   ],
   "source": [
    "const_d1.get_shape()"
   ]
  },
  {
   "cell_type": "code",
   "execution_count": 49,
   "id": "01a1746f",
   "metadata": {},
   "outputs": [
    {
     "data": {
      "text/plain": [
       "<tf.Tensor: shape=(2,), dtype=int32, numpy=array([2, 3])>"
      ]
     },
     "execution_count": 49,
     "metadata": {},
     "output_type": "execute_result"
    }
   ],
   "source": [
    "tf.shape(const_d1)"
   ]
  },
  {
   "cell_type": "code",
   "execution_count": 50,
   "id": "99a30113",
   "metadata": {},
   "outputs": [
    {
     "name": "stdout",
     "output_type": "stream",
     "text": [
      "tf.Tensor(\n",
      "[[1 2 3]\n",
      " [4 5 6]], shape=(2, 3), dtype=int32)\n"
     ]
    }
   ],
   "source": [
    "reshape_1 = tf.constant([[1,2,3],[4,5,6]])\n",
    "\n",
    "print(reshape_1)"
   ]
  },
  {
   "cell_type": "code",
   "execution_count": 51,
   "id": "4bad9722",
   "metadata": {},
   "outputs": [
    {
     "data": {
      "text/plain": [
       "<tf.Tensor: shape=(3, 2), dtype=int32, numpy=\n",
       "array([[1, 2],\n",
       "       [3, 4],\n",
       "       [5, 6]])>"
      ]
     },
     "execution_count": 51,
     "metadata": {},
     "output_type": "execute_result"
    }
   ],
   "source": [
    "tf.reshape(reshape_1, (3,2))"
   ]
  },
  {
   "cell_type": "code",
   "execution_count": 52,
   "id": "c09bd026",
   "metadata": {},
   "outputs": [
    {
     "data": {
      "text/plain": [
       "TensorShape([100, 100, 3])"
      ]
     },
     "execution_count": 52,
     "metadata": {},
     "output_type": "execute_result"
    }
   ],
   "source": [
    "expand_tf = tf.random.normal([100,100,3])\n",
    "expand_tf.shape"
   ]
  },
  {
   "cell_type": "code",
   "execution_count": 53,
   "id": "5742d1e0",
   "metadata": {},
   "outputs": [
    {
     "data": {
      "text/plain": [
       "TensorShape([1, 100, 100, 3])"
      ]
     },
     "execution_count": 53,
     "metadata": {},
     "output_type": "execute_result"
    }
   ],
   "source": [
    "tf.expand_dims(expand_tf, axis=0).shape"
   ]
  },
  {
   "cell_type": "code",
   "execution_count": 54,
   "id": "187cf93a",
   "metadata": {},
   "outputs": [
    {
     "data": {
      "text/plain": [
       "TensorShape([100, 1, 100, 3])"
      ]
     },
     "execution_count": 54,
     "metadata": {},
     "output_type": "execute_result"
    }
   ],
   "source": [
    "tf.expand_dims(expand_tf, axis=1).shape"
   ]
  },
  {
   "cell_type": "code",
   "execution_count": 55,
   "id": "c8d5c8fc",
   "metadata": {},
   "outputs": [
    {
     "data": {
      "text/plain": [
       "TensorShape([100, 100, 1, 3])"
      ]
     },
     "execution_count": 55,
     "metadata": {},
     "output_type": "execute_result"
    }
   ],
   "source": [
    "tf.expand_dims(expand_tf, axis=2).shape"
   ]
  },
  {
   "cell_type": "code",
   "execution_count": 56,
   "id": "1119e086",
   "metadata": {},
   "outputs": [
    {
     "name": "stdout",
     "output_type": "stream",
     "text": [
      "size of the original data: (1, 100, 100, 3)\n"
     ]
    }
   ],
   "source": [
    "squeeze_sample_1 = tf.random.normal([1,100,100,3])\n",
    "print(\"size of the original data:\",squeeze_sample_1.shape)"
   ]
  },
  {
   "cell_type": "code",
   "execution_count": 57,
   "id": "c8a0e0f0",
   "metadata": {},
   "outputs": [
    {
     "name": "stdout",
     "output_type": "stream",
     "text": [
      "data size after dimension squeezing: (100, 100, 3)\n"
     ]
    }
   ],
   "source": [
    "squeezed_sample_1 = tf.squeeze(squeeze_sample_1)\n",
    "print(\"data size after dimension squeezing:\",squeezed_sample_1.shape)"
   ]
  },
  {
   "cell_type": "code",
   "execution_count": 60,
   "id": "73b7ea4c",
   "metadata": {},
   "outputs": [
    {
     "name": "stdout",
     "output_type": "stream",
     "text": [
      "size of the original data: (2, 3)\n",
      "tf.Tensor(\n",
      "[[1 2 3]\n",
      " [4 5 6]], shape=(2, 3), dtype=int32)\n"
     ]
    }
   ],
   "source": [
    "trans_sample_1 = tf.constant([1,2,3,4,5,6],shape=[2,3])\n",
    "print(\"size of the original data:\",trans_sample_1.shape)\n",
    "print(trans_sample_1)"
   ]
  },
  {
   "cell_type": "code",
   "execution_count": 62,
   "id": "f14b28dd",
   "metadata": {},
   "outputs": [
    {
     "name": "stdout",
     "output_type": "stream",
     "text": [
      "size of transposed data: (3, 2)\n",
      "tf.Tensor(\n",
      "[[1 4]\n",
      " [2 5]\n",
      " [3 6]], shape=(3, 2), dtype=int32)\n"
     ]
    }
   ],
   "source": [
    "transposed_sample_1 = tf.transpose(trans_sample_1)\n",
    "print(\"size of transposed data:\",transposed_sample_1.shape)\n",
    "print(transposed_sample_1)"
   ]
  },
  {
   "cell_type": "code",
   "execution_count": 64,
   "id": "aa36cb34",
   "metadata": {},
   "outputs": [
    {
     "name": "stdout",
     "output_type": "stream",
     "text": [
      "original data: tf.Tensor([1 2 3 4 5 6], shape=(6,), dtype=int32)\n"
     ]
    }
   ],
   "source": [
    "broadcast_sample_1 = tf.constant([1,2,3,4,5,6])\n",
    "print(\"original data:\",broadcast_sample_1)"
   ]
  },
  {
   "cell_type": "code",
   "execution_count": 67,
   "id": "2097a6ac",
   "metadata": {},
   "outputs": [
    {
     "name": "stdout",
     "output_type": "stream",
     "text": [
      "broadcasted data: tf.Tensor(\n",
      "[[1 2 3 4 5 6]\n",
      " [1 2 3 4 5 6]], shape=(2, 6), dtype=int32)\n"
     ]
    }
   ],
   "source": [
    "broadcasted_sample_1 = tf.broadcast_to(broadcast_sample_1,shape=[2,6])\n",
    "print(\"broadcasted data:\",broadcasted_sample_1)"
   ]
  },
  {
   "cell_type": "code",
   "execution_count": 69,
   "id": "bfe17bc6",
   "metadata": {},
   "outputs": [
    {
     "name": "stdout",
     "output_type": "stream",
     "text": [
      "tf.Tensor(\n",
      "[[ 3 30]\n",
      " [ 8 72]], shape=(2, 2), dtype=int32)\n"
     ]
    }
   ],
   "source": [
    "a = tf.constant([[3, 5], [4, 8]])\n",
    "b = tf.constant([[1, 6], [2, 9]])\n",
    "\n",
    "print(tf.multiply(a, b))"
   ]
  },
  {
   "cell_type": "code",
   "execution_count": 70,
   "id": "5dfa4fbb",
   "metadata": {},
   "outputs": [
    {
     "data": {
      "text/plain": [
       "<tf.Tensor: shape=(2, 2), dtype=int32, numpy=\n",
       "array([[13, 63],\n",
       "       [20, 96]])>"
      ]
     },
     "execution_count": 70,
     "metadata": {},
     "output_type": "execute_result"
    }
   ],
   "source": [
    "tf.matmul(a,b)"
   ]
  },
  {
   "cell_type": "code",
   "execution_count": 72,
   "id": "6fa90db6",
   "metadata": {},
   "outputs": [
    {
     "data": {
      "text/plain": [
       "array([[1, 3, 2],\n",
       "       [2, 5, 8],\n",
       "       [7, 5, 9]])"
      ]
     },
     "execution_count": 72,
     "metadata": {},
     "output_type": "execute_result"
    }
   ],
   "source": [
    "argmax_sample_1 = tf.constant([[1,3,2],[2,5,8],[7,5,9]])\n",
    "argmax_sample_1.numpy()"
   ]
  },
  {
   "cell_type": "code",
   "execution_count": 76,
   "id": "2b664234",
   "metadata": {},
   "outputs": [
    {
     "name": "stdout",
     "output_type": "stream",
     "text": [
      "locate the maximum value by column: [2 1 2]\n"
     ]
    }
   ],
   "source": [
    "max_sample_1 = tf.argmax(argmax_sample_1, axis=0)\n",
    "print(\"locate the maximum value by column:\",max_sample_1.numpy())"
   ]
  },
  {
   "cell_type": "code",
   "execution_count": 74,
   "id": "062e8cbd",
   "metadata": {},
   "outputs": [
    {
     "name": "stdout",
     "output_type": "stream",
     "text": [
      "locate the maximum value by row: [1 2 2]\n"
     ]
    }
   ],
   "source": [
    "max_sample_2 = tf.argmax(argmax_sample_1, axis=1)\n",
    "print(\"locate the maximum value by row:\",max_sample_2.numpy())"
   ]
  },
  {
   "cell_type": "code",
   "execution_count": 77,
   "id": "fec0ef79",
   "metadata": {},
   "outputs": [
    {
     "data": {
      "text/plain": [
       "array([[1, 2, 3],\n",
       "       [4, 5, 6]])"
      ]
     },
     "execution_count": 77,
     "metadata": {},
     "output_type": "execute_result"
    }
   ],
   "source": [
    "reduce_sample_1 = tf.constant([1,2,3,4,5,6],shape=[2,3])\n",
    "reduce_sample_1.numpy()\n"
   ]
  },
  {
   "cell_type": "code",
   "execution_count": 78,
   "id": "aed29f4c",
   "metadata": {},
   "outputs": [
    {
     "data": {
      "text/plain": [
       "21"
      ]
     },
     "execution_count": 78,
     "metadata": {},
     "output_type": "execute_result"
    }
   ],
   "source": [
    "tf.reduce_sum(reduce_sample_1,axis=None).numpy()\n"
   ]
  },
  {
   "cell_type": "code",
   "execution_count": 79,
   "id": "bc8a789a",
   "metadata": {},
   "outputs": [
    {
     "data": {
      "text/plain": [
       "array([5, 7, 9])"
      ]
     },
     "execution_count": 79,
     "metadata": {},
     "output_type": "execute_result"
    }
   ],
   "source": [
    "tf.reduce_sum(reduce_sample_1,axis=0).numpy()\n"
   ]
  },
  {
   "cell_type": "code",
   "execution_count": 82,
   "id": "dff537fe",
   "metadata": {},
   "outputs": [
    {
     "data": {
      "text/plain": [
       "array([ 6, 15])"
      ]
     },
     "execution_count": 82,
     "metadata": {},
     "output_type": "execute_result"
    }
   ],
   "source": [
    "tf.reduce_sum(reduce_sample_1,axis=1).numpy()"
   ]
  },
  {
   "cell_type": "code",
   "execution_count": 83,
   "id": "e7875d45",
   "metadata": {},
   "outputs": [
    {
     "name": "stdout",
     "output_type": "stream",
     "text": [
      "sizes of the original data: (4, 100, 100, 3) (40, 100, 100, 3)\n"
     ]
    }
   ],
   "source": [
    "concat_sample_1 = tf.random.normal([4,100,100,3])\n",
    "concat_sample_2 = tf.random.normal([40,100,100,3])\n",
    "print(\"sizes of the original data:\",concat_sample_1.shape,concat_sample_2.shape)"
   ]
  },
  {
   "cell_type": "code",
   "execution_count": 88,
   "id": "f22280a4",
   "metadata": {},
   "outputs": [
    {
     "name": "stdout",
     "output_type": "stream",
     "text": [
      "size of the concatenated data: (44, 100, 100, 3)\n"
     ]
    }
   ],
   "source": [
    "concated_sample_1 = tf.concat([concat_sample_1,concat_sample_2], axis=0)\n",
    "print(\"size of the concatenated data:\",concated_sample_1.shape)"
   ]
  },
  {
   "cell_type": "code",
   "execution_count": 97,
   "id": "4ae74cd5",
   "metadata": {},
   "outputs": [
    {
     "name": "stdout",
     "output_type": "stream",
     "text": [
      "sizes of the original data:  (2, 2, 3) (2, 2, 3)\n"
     ]
    }
   ],
   "source": [
    "stack_sample_1 = tf.random.normal([2,2,3])\n",
    "stack_sample_2 = tf.random.normal([2,2,3])\n",
    "print(\"sizes of the original data: \",stack_sample_1.shape, stack_sample_2.shape)\n"
   ]
  },
  {
   "cell_type": "code",
   "execution_count": 98,
   "id": "ca2b0260",
   "metadata": {},
   "outputs": [
    {
     "name": "stdout",
     "output_type": "stream",
     "text": [
      "size of the concatenated data: (2, 2, 2, 3)\n"
     ]
    }
   ],
   "source": [
    "#Dimensions increase after the concatenation. If axis is set to 0, a dimension is added before the first dimension.\n",
    "stacked_sample_1 = tf.stack([stack_sample_1, stack_sample_2],axis=0)\n",
    "print(\"size of the concatenated data:\",stacked_sample_1.shape)"
   ]
  },
  {
   "cell_type": "code",
   "execution_count": 99,
   "id": "2384d9e5",
   "metadata": {},
   "outputs": [
    {
     "data": {
      "text/plain": [
       "[<tf.Tensor: shape=(2, 2, 3), dtype=float32, numpy=\n",
       " array([[[-1.3038361 ,  1.493537  , -0.4575571 ],\n",
       "         [-1.64115   ,  0.01479695, -0.69148314]],\n",
       " \n",
       "        [[-0.19404233,  1.0077832 ,  1.2548472 ],\n",
       "         [-0.97444975,  1.0605582 ,  0.42968935]]], dtype=float32)>,\n",
       " <tf.Tensor: shape=(2, 2, 3), dtype=float32, numpy=\n",
       " array([[[-0.5639758 ,  0.36812386, -1.5872178 ],\n",
       "         [ 0.13021925, -1.0503571 , -0.78633225]],\n",
       " \n",
       "        [[ 0.21349749,  0.9708791 ,  1.1109482 ],\n",
       "         [-0.80331683,  1.0312077 , -1.1832316 ]]], dtype=float32)>]"
      ]
     },
     "execution_count": 99,
     "metadata": {},
     "output_type": "execute_result"
    }
   ],
   "source": [
    "tf.unstack(stacked_sample_1,axis=0)"
   ]
  },
  {
   "cell_type": "code",
   "execution_count": 100,
   "id": "10e83093",
   "metadata": {},
   "outputs": [
    {
     "name": "stdout",
     "output_type": "stream",
     "text": [
      "size of the original data: (10, 100, 100, 3)\n"
     ]
    }
   ],
   "source": [
    "import numpy as np\n",
    "split_sample_1 = tf.random.normal([10,100,100,3])\n",
    "print(\"size of the original data:\",split_sample_1.shape)\n"
   ]
  },
  {
   "cell_type": "code",
   "execution_count": 102,
   "id": "7fe31feb",
   "metadata": {},
   "outputs": [
    {
     "name": "stdout",
     "output_type": "stream",
     "text": [
      "size of the split data when m_or_size_splits is set to 10:  (5, 2, 100, 100, 3)\n"
     ]
    }
   ],
   "source": [
    "splited_sample_1 = tf.split(split_sample_1, num_or_size_splits=5,axis=0)\n",
    "print(\"size of the split data when m_or_size_splits is set to 10: \",np.shape(splited_sample_1))\n"
   ]
  },
  {
   "cell_type": "code",
   "execution_count": 106,
   "id": "75e9c8ab",
   "metadata": {},
   "outputs": [
    {
     "name": "stdout",
     "output_type": "stream",
     "text": [
      "sizes of the split data when num_or_size_splits is set to [3,5,2]: (3, 100, 100, 3) (5, 100, 100, 3) (2, 100, 100, 3)\n"
     ]
    }
   ],
   "source": [
    "splited_sample_2 = tf.split(split_sample_1, num_or_size_splits=[3,5,2],axis=0)\n",
    "print(\"sizes of the split data when num_or_size_splits is set to [3,5,2]:\",np.shape(splited_sample_2[0]), np.shape(splited_sample_2[1]), np.shape(splited_sample_2[2]))"
   ]
  },
  {
   "cell_type": "code",
   "execution_count": 107,
   "id": "3abeffc3",
   "metadata": {},
   "outputs": [
    {
     "name": "stdout",
     "output_type": "stream",
     "text": [
      "input tensor: [8 6 0 7 4 2 1 9 5 3]\n"
     ]
    }
   ],
   "source": [
    "sort_sample_1 = tf.random.shuffle(tf.range(10))\n",
    "print(\"input tensor:\",sort_sample_1.numpy())\n"
   ]
  },
  {
   "cell_type": "code",
   "execution_count": 108,
   "id": "0fd2d9f3",
   "metadata": {},
   "outputs": [
    {
     "name": "stdout",
     "output_type": "stream",
     "text": [
      "tensor sorted in ascending order: [0 1 2 3 4 5 6 7 8 9]\n"
     ]
    }
   ],
   "source": [
    "sorted_sample_1 = tf.sort(sort_sample_1, direction=\"ASCENDING\")\n",
    "print(\"tensor sorted in ascending order:\",sorted_sample_1.numpy())\n"
   ]
  },
  {
   "cell_type": "code",
   "execution_count": 109,
   "id": "421e790e",
   "metadata": {},
   "outputs": [
    {
     "name": "stdout",
     "output_type": "stream",
     "text": [
      "indexes of elements in ascending order: [2 6 5 9 4 8 1 3 0 7]\n"
     ]
    }
   ],
   "source": [
    "sorted_sample_2 = tf.argsort(sort_sample_1,direction=\"ASCENDING\")\n",
    "print(\"indexes of elements in ascending order:\",sorted_sample_2.numpy())"
   ]
  },
  {
   "cell_type": "code",
   "execution_count": 110,
   "id": "a8279ac1",
   "metadata": {},
   "outputs": [
    {
     "name": "stdout",
     "output_type": "stream",
     "text": [
      "input tensor: [8 6 0 7 4 2 1 9 5 3]\n"
     ]
    }
   ],
   "source": [
    "values, index = tf.nn.top_k(sort_sample_1,5)\n",
    "print(\"input tensor:\",sort_sample_1.numpy())\n"
   ]
  },
  {
   "cell_type": "code",
   "execution_count": 113,
   "id": "8d7bf045",
   "metadata": {},
   "outputs": [
    {
     "name": "stdout",
     "output_type": "stream",
     "text": [
      "first five values in Descending order: [9 8 7 6 5]\n"
     ]
    }
   ],
   "source": [
    "print(\"first five values in Descending order:\", values.numpy())"
   ]
  },
  {
   "cell_type": "code",
   "execution_count": 114,
   "id": "485be3f0",
   "metadata": {},
   "outputs": [
    {
     "name": "stdout",
     "output_type": "stream",
     "text": [
      "indexes of the first five values in Descending order: [7 0 3 1 8]\n"
     ]
    }
   ],
   "source": [
    "print(\"indexes of the first five values in Descending order:\", index.numpy())"
   ]
  },
  {
   "cell_type": "code",
   "execution_count": 115,
   "id": "4bd8c187",
   "metadata": {},
   "outputs": [
    {
     "name": "stdout",
     "output_type": "stream",
     "text": [
      "tf.Tensor(\n",
      "[[4. 6.]\n",
      " [4. 6.]], shape=(2, 2), dtype=float32)\n"
     ]
    }
   ],
   "source": [
    "x = tf.ones((2, 2), dtype=tf.dtypes.float32)\n",
    "y = tf.constant([[1, 2],[3, 4]], dtype=tf.dtypes.float32)\n",
    "z = tf.matmul(x, y)\n",
    "print(z)"
   ]
  },
  {
   "cell_type": "code",
   "execution_count": 117,
   "id": "904cbbc0",
   "metadata": {},
   "outputs": [
    {
     "name": "stdout",
     "output_type": "stream",
     "text": [
      "[[4. 6.]\n",
      " [4. 6.]]\n"
     ]
    }
   ],
   "source": [
    "import tensorflow.compat.v1 as tf\n",
    "tf.disable_eager_execution()\n",
    "#Create a graph and define it as a computational graph.\n",
    "a = tf.ones((2, 2), dtype=tf.dtypes.float32)\n",
    "b = tf.constant([[1, 2],[3, 4]], dtype=tf.dtypes.float32)\n",
    "c = tf.matmul(a, b)\n",
    "#Enable the drawing function, and perform the multiplication operation to obtain data.\n",
    "with tf.Session() as sess:\n",
    "    print(sess.run(c))"
   ]
  },
  {
   "cell_type": "code",
   "execution_count": 121,
   "id": "65d0574e",
   "metadata": {},
   "outputs": [
    {
     "data": {
      "text/plain": [
       "<tf.Tensor 'StatefulPartitionedCall_1:0' shape=(100, 199, 199, 100) dtype=float32>"
      ]
     },
     "execution_count": 121,
     "metadata": {},
     "output_type": "execute_result"
    }
   ],
   "source": [
    "import timeit\n",
    "#Create a convolutional layer.\n",
    "CNN_cell = tf.keras.layers.Conv2D(filters=100,kernel_size=2,strides=(1,1))\n",
    "#Use @tf.function to convert the operation into a graph.\n",
    "@tf.function\n",
    "def CNN_fn(image):\n",
    "    return CNN_cell(image)\n",
    "image = tf.zeros([100, 200, 200, 3])\n",
    "#Compare the execution time of the two modes.\n",
    "CNN_cell(image)\n",
    "CNN_fn(image)"
   ]
  },
  {
   "cell_type": "code",
   "execution_count": 124,
   "id": "fc8d0e6f",
   "metadata": {},
   "outputs": [
    {
     "name": "stdout",
     "output_type": "stream",
     "text": [
      "Eager execution mode: 0.0201985000167042\n",
      "Autograph mode: 0.009555800002999604\n"
     ]
    }
   ],
   "source": [
    "#Call timeit.timeit to measure the time required for executing the code 10 times.\n",
    "print(\"Eager execution mode:\", timeit.timeit(lambda: CNN_cell(image), number=10))\n",
    "print(\"Autograph mode:\", timeit.timeit(lambda: CNN_fn(image), number=10))"
   ]
  },
  {
   "cell_type": "code",
   "execution_count": null,
   "id": "6185d2d0",
   "metadata": {},
   "outputs": [],
   "source": []
  }
 ],
 "metadata": {
  "kernelspec": {
   "display_name": "Python 3 (ipykernel)",
   "language": "python",
   "name": "python3"
  },
  "language_info": {
   "codemirror_mode": {
    "name": "ipython",
    "version": 3
   },
   "file_extension": ".py",
   "mimetype": "text/x-python",
   "name": "python",
   "nbconvert_exporter": "python",
   "pygments_lexer": "ipython3",
   "version": "3.10.7"
  }
 },
 "nbformat": 4,
 "nbformat_minor": 5
}
